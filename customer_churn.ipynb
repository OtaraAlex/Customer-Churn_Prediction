{
 "cells": [
  {
   "cell_type": "code",
   "execution_count": 54,
   "metadata": {},
   "outputs": [],
   "source": [
    "# Import Necessary Libraries\n",
    "import pyforest"
   ]
  },
  {
   "cell_type": "code",
   "execution_count": 56,
   "metadata": {},
   "outputs": [],
   "source": [
    "# Load the Dataset\n",
    "data = pd.read_csv('data.csv')"
   ]
  },
  {
   "cell_type": "code",
   "execution_count": 57,
   "metadata": {},
   "outputs": [
    {
     "data": {
      "text/html": [
       "<div>\n",
       "<style scoped>\n",
       "    .dataframe tbody tr th:only-of-type {\n",
       "        vertical-align: middle;\n",
       "    }\n",
       "\n",
       "    .dataframe tbody tr th {\n",
       "        vertical-align: top;\n",
       "    }\n",
       "\n",
       "    .dataframe thead th {\n",
       "        text-align: right;\n",
       "    }\n",
       "</style>\n",
       "<table border=\"1\" class=\"dataframe\">\n",
       "  <thead>\n",
       "    <tr style=\"text-align: right;\">\n",
       "      <th></th>\n",
       "      <th>CustomerID</th>\n",
       "      <th>Name</th>\n",
       "      <th>Gender</th>\n",
       "      <th>Age</th>\n",
       "      <th>Location</th>\n",
       "      <th>Tenure</th>\n",
       "      <th>MonthlyCharges</th>\n",
       "      <th>DataUsage</th>\n",
       "      <th>VoiceMinutes</th>\n",
       "      <th>TextMessages</th>\n",
       "      <th>ServicePlan</th>\n",
       "      <th>BillingAmount</th>\n",
       "      <th>PaymentMethod</th>\n",
       "      <th>LatePayments</th>\n",
       "      <th>CustomerSupportCalls</th>\n",
       "      <th>Complaints</th>\n",
       "      <th>Churn</th>\n",
       "    </tr>\n",
       "  </thead>\n",
       "  <tbody>\n",
       "    <tr>\n",
       "      <th>0</th>\n",
       "      <td>1</td>\n",
       "      <td>Gordon Garforth</td>\n",
       "      <td>Polygender</td>\n",
       "      <td>27</td>\n",
       "      <td>Hradec Králové</td>\n",
       "      <td>4</td>\n",
       "      <td>69.71</td>\n",
       "      <td>0.7</td>\n",
       "      <td>979</td>\n",
       "      <td>103</td>\n",
       "      <td>Contract</td>\n",
       "      <td>2528</td>\n",
       "      <td>Auto Pay</td>\n",
       "      <td>0</td>\n",
       "      <td>2</td>\n",
       "      <td>5</td>\n",
       "      <td>True</td>\n",
       "    </tr>\n",
       "    <tr>\n",
       "      <th>1</th>\n",
       "      <td>2</td>\n",
       "      <td>Sasha Drei</td>\n",
       "      <td>Female</td>\n",
       "      <td>30</td>\n",
       "      <td>Przewóz</td>\n",
       "      <td>56</td>\n",
       "      <td>23.26</td>\n",
       "      <td>5.3</td>\n",
       "      <td>210</td>\n",
       "      <td>269</td>\n",
       "      <td>Prepaid</td>\n",
       "      <td>3907</td>\n",
       "      <td>Bank Transfer</td>\n",
       "      <td>2</td>\n",
       "      <td>4</td>\n",
       "      <td>4</td>\n",
       "      <td>True</td>\n",
       "    </tr>\n",
       "    <tr>\n",
       "      <th>2</th>\n",
       "      <td>3</td>\n",
       "      <td>Megan Teml</td>\n",
       "      <td>Female</td>\n",
       "      <td>78</td>\n",
       "      <td>Sovetskaya</td>\n",
       "      <td>60</td>\n",
       "      <td>65.76</td>\n",
       "      <td>4.0</td>\n",
       "      <td>36</td>\n",
       "      <td>157</td>\n",
       "      <td>Contract</td>\n",
       "      <td>2608</td>\n",
       "      <td>Auto Pay</td>\n",
       "      <td>0</td>\n",
       "      <td>0</td>\n",
       "      <td>1</td>\n",
       "      <td>False</td>\n",
       "    </tr>\n",
       "    <tr>\n",
       "      <th>3</th>\n",
       "      <td>4</td>\n",
       "      <td>Patrizio Waltering</td>\n",
       "      <td>Male</td>\n",
       "      <td>83</td>\n",
       "      <td>Kliteh</td>\n",
       "      <td>60</td>\n",
       "      <td>4.70</td>\n",
       "      <td>8.2</td>\n",
       "      <td>812</td>\n",
       "      <td>94</td>\n",
       "      <td>Prepaid</td>\n",
       "      <td>3881</td>\n",
       "      <td>Bank Transfer</td>\n",
       "      <td>2</td>\n",
       "      <td>4</td>\n",
       "      <td>3</td>\n",
       "      <td>True</td>\n",
       "    </tr>\n",
       "    <tr>\n",
       "      <th>4</th>\n",
       "      <td>5</td>\n",
       "      <td>Latrena Dampney</td>\n",
       "      <td>Female</td>\n",
       "      <td>80</td>\n",
       "      <td>Devitsa</td>\n",
       "      <td>7</td>\n",
       "      <td>57.38</td>\n",
       "      <td>6.6</td>\n",
       "      <td>823</td>\n",
       "      <td>431</td>\n",
       "      <td>Contract</td>\n",
       "      <td>3147</td>\n",
       "      <td>Credit Card</td>\n",
       "      <td>3</td>\n",
       "      <td>2</td>\n",
       "      <td>5</td>\n",
       "      <td>False</td>\n",
       "    </tr>\n",
       "  </tbody>\n",
       "</table>\n",
       "</div>"
      ],
      "text/plain": [
       "   CustomerID                Name      Gender  Age        Location  Tenure  \\\n",
       "0           1     Gordon Garforth  Polygender   27  Hradec Králové       4   \n",
       "1           2          Sasha Drei      Female   30         Przewóz      56   \n",
       "2           3          Megan Teml      Female   78      Sovetskaya      60   \n",
       "3           4  Patrizio Waltering        Male   83          Kliteh      60   \n",
       "4           5     Latrena Dampney      Female   80         Devitsa       7   \n",
       "\n",
       "   MonthlyCharges  DataUsage  VoiceMinutes  TextMessages ServicePlan  \\\n",
       "0           69.71        0.7           979           103    Contract   \n",
       "1           23.26        5.3           210           269     Prepaid   \n",
       "2           65.76        4.0            36           157    Contract   \n",
       "3            4.70        8.2           812            94     Prepaid   \n",
       "4           57.38        6.6           823           431    Contract   \n",
       "\n",
       "   BillingAmount  PaymentMethod  LatePayments  CustomerSupportCalls  \\\n",
       "0           2528       Auto Pay             0                     2   \n",
       "1           3907  Bank Transfer             2                     4   \n",
       "2           2608       Auto Pay             0                     0   \n",
       "3           3881  Bank Transfer             2                     4   \n",
       "4           3147    Credit Card             3                     2   \n",
       "\n",
       "   Complaints  Churn  \n",
       "0           5   True  \n",
       "1           4   True  \n",
       "2           1  False  \n",
       "3           3   True  \n",
       "4           5  False  "
      ]
     },
     "execution_count": 57,
     "metadata": {},
     "output_type": "execute_result"
    }
   ],
   "source": [
    "# Explore the Dataset\n",
    "data.head()"
   ]
  },
  {
   "cell_type": "code",
   "execution_count": 107,
   "metadata": {},
   "outputs": [
    {
     "data": {
      "text/plain": [
       "(1000, 2000)"
      ]
     },
     "execution_count": 107,
     "metadata": {},
     "output_type": "execute_result"
    }
   ],
   "source": [
    "# Check the shape of the Dataset\n",
    "data.shape"
   ]
  },
  {
   "cell_type": "code",
   "execution_count": 108,
   "metadata": {},
   "outputs": [],
   "source": [
    "# Data Cleaning\n",
    "data.dropna(inplace=True)\n",
    "\n",
    "data = pd.get_dummies(data, drop_first=True)\n",
    "\n",
    "# Data Preprocessing\n",
    "from sklearn.preprocessing import MinMaxScaler\n",
    "scaler = MinMaxScaler()\n",
    "data['Complaints'] = scaler.fit_transform(data[['Complaints']])"
   ]
  },
  {
   "cell_type": "code",
   "execution_count": null,
   "metadata": {},
   "outputs": [],
   "source": [
    "import xgboost as xgb\n",
    "from sklearn.model_selection import train_test_split\n",
    "from sklearn.metrics import accuracy_score, precision_score, recall_score, f1_score, roc_auc_score\n",
    "\n",
    "# Splitting the data into train and test\n",
    "X_train, X_test, y_train, y_test = train_test_split(data.drop('Churn', axis=1), data['Churn'], test_size=0.2, random_state=42)\n",
    "\n",
    "\n",
    "# Initialize and train xgboost model\n",
    "model = xgb.XGBClassifier()\n",
    "model.fit(X_train, y_train)\n",
    "\n",
    "\n",
    "# Predict churn on the test data\n",
    "y_pred = model.predict(X_test)\n",
    "y_proba = model.predict_proba(X_test)[:, 1]\n",
    "\n",
    "# Evaluation metrics\n",
    "accuracy = accuracy_score(y_test, y_pred)\n",
    "precision = precision_score(y_test, y_pred)\n",
    "recall = recall_score(y_test, y_pred)\n",
    "f1 = f1_score(y_test, y_pred)\n",
    "roc_auc = roc_auc_score(y_test, y_proba)"
   ]
  },
  {
   "cell_type": "code",
   "execution_count": 121,
   "metadata": {},
   "outputs": [
    {
     "data": {
      "image/png": "[encoded data removed]",
      "text/plain": [
       "<Figure size 600x600 with 1 Axes>"
      ]
     },
     "metadata": {},
     "output_type": "display_data"
    }
   ],
   "source": [
    "# VISUALIZE DATA\n",
    "\n",
    "data = pd.read_csv('data.csv')\n",
    "\n",
    "# Count the number of customers who churned and those who stayed\n",
    "churn_counts = data['Churn'].value_counts()\n",
    "\n",
    "plt.figure(figsize=(6, 6))\n",
    "plt.bar(churn_counts.index, churn_counts.values, color=['red', 'green'])\n",
    "plt.xticks(churn_counts.index, ['Churned', 'Stayed'])\n",
    "plt.xlabel('Churn Status')\n",
    "plt.ylabel('Number of Customers')\n",
    "plt.title('Customer Churn Distribution')\n",
    "plt.show()\n"
   ]
  },
  {
   "cell_type": "code",
   "execution_count": 125,
   "metadata": {},
   "outputs": [
    {
     "data": {
      "image/png": "[encoded data removed]",
      "text/plain": [
       "<Figure size 1000x600 with 1 Axes>"
      ]
     },
     "metadata": {},
     "output_type": "display_data"
    }
   ],
   "source": [
    "# VISUALIZE CHURN BY AGE GROUP\n",
    "\n",
    "# Create age groups\n",
    "age_bins = [0, 30, 40, 50, 60, 100]  # Define age bins\n",
    "age_labels = ['0-29', '30-39', '40-49', '50-59', '60+']  # Labels for age groups\n",
    "data['AgeGroup'] = pd.cut(data['Age'], bins=age_bins, labels=age_labels)\n",
    "\n",
    "# Count the number of customers who churned and those who stayed within each age group\n",
    "# churn_counts = data.groupby(['AgeGroup', 'Churn'])['CustomerID'].count().unstack()\n",
    "\n",
    "# create a cross-tabulation table of churn by age group\n",
    "churn_counts = pd.crosstab(data['AgeGroup'], data['Churn'], dropna=False)\n",
    "\n",
    "# Create a stacked bar chart to visualize churn by age group\n",
    "churn_counts.plot(kind='bar', stacked=True, figsize=(10, 6), color=['green', 'red'])\n",
    "plt.xlabel('Age Group')\n",
    "plt.ylabel('Number of Customers')\n",
    "plt.title('Churn Distribution by Age Group')\n",
    "plt.legend(title='Churn', labels=['Stayed', 'Churned'])\n",
    "plt.show()\n"
   ]
  }
 ],
 "metadata": {
  "kernelspec": {
   "display_name": "Python 3",
   "language": "python",
   "name": "python3"
  },
  "language_info": {
   "codemirror_mode": {
    "name": "ipython",
    "version": 3
   },
   "file_extension": ".py",
   "mimetype": "text/x-python",
   "name": "python",
   "nbconvert_exporter": "python",
   "pygments_lexer": "ipython3",
   "version": "3.11.5"
  },
  "orig_nbformat": 4
 },
 "nbformat": 4,
 "nbformat_minor": 2
}
